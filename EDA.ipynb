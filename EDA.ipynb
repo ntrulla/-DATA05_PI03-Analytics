{
 "cells": [
  {
   "cell_type": "code",
   "execution_count": 7,
   "metadata": {},
   "outputs": [],
   "source": [
    "# Descargar librerias para manipulación de datos \n",
    "import pandas as pd\n",
    "import numpy as np\n",
    "import seaborn as sns\n",
    "import requests"
   ]
  },
  {
   "cell_type": "code",
   "execution_count": 6,
   "metadata": {},
   "outputs": [],
   "source": [
    "# Accedo directamente al CSV ya que la api no devuelve los datasets de las visualizaciones\n",
    "internet_penet = pd.read_csv(\"https://datosabiertos.enacom.gob.ar/rest/datastreams/281491/data.csv\")\n",
    "internet_tec = pd.read_csv(\"https://datosabiertos.enacom.gob.ar/rest/datastreams/275029/data.csv\")\n",
    "internet_vel = pd.read_csv(\"https://datosabiertos.enacom.gob.ar/rest/datastreams/288059/data.csv\")\n",
    "internet_acc_vel = pd.read_csv(\"https://datosabiertos.enacom.gob.ar/rest/datastreams/280921/data.csv\")"
   ]
  },
  {
   "cell_type": "code",
   "execution_count": 8,
   "metadata": {},
   "outputs": [],
   "source": [
    "# Accedo mediante la API\n",
    "response = requests.get(\"http://api.datosabiertos.enacom.gob.ar/api/v2/datastreams/ACCES-A-INTER-FIJO-POR/data.ajson/?auth_key=9yZFM9svSV3I2epH4ZPwDxtNuXvnoEI8xveLiwiv\")\n",
    "data = response.json()\n",
    "internet_tec_prov = data[\"result\"]\n",
    "response = requests.get(\"http://api.datosabiertos.enacom.gob.ar/api/v2/datastreams/PENET-TOTAL-NACIO-DE-LA/data.ajson/?auth_key=9yZFM9svSV3I2epH4ZPwDxtNuXvnoEI8xveLiwiv\")\n",
    "data = response.json()\n",
    "telefonia = data[\"result\"]"
   ]
  },
  {
   "cell_type": "code",
   "execution_count": 9,
   "metadata": {},
   "outputs": [],
   "source": [
    "# Convierto la primer file en el nombre de las columnas\n",
    "telefonia = pd.DataFrame(telefonia)\n",
    "telefonia.columns = telefonia.iloc[0]\n",
    "telefonia = telefonia[1:]"
   ]
  },
  {
   "attachments": {},
   "cell_type": "markdown",
   "metadata": {},
   "source": [
    "### Exploramos la infomación de nuestros datos"
   ]
  },
  {
   "cell_type": "code",
   "execution_count": 12,
   "metadata": {},
   "outputs": [
    {
     "name": "stdout",
     "output_type": "stream",
     "text": [
      "<class 'pandas.core.frame.DataFrame'>\n",
      "RangeIndex: 34 entries, 0 to 33\n",
      "Data columns (total 5 columns):\n",
      " #   Column                        Non-Null Count  Dtype \n",
      "---  ------                        --------------  ----- \n",
      " 0   Año                           34 non-null     int64 \n",
      " 1   Trimestre                     34 non-null     int64 \n",
      " 2   Accesos por cada 100 hogares  34 non-null     object\n",
      " 3   Accesos por cada 100 hab      34 non-null     object\n",
      " 4   Periodo                       34 non-null     object\n",
      "dtypes: int64(2), object(3)\n",
      "memory usage: 1.5+ KB\n"
     ]
    }
   ],
   "source": [
    "# Exploramos la infomación de nuestros datos \n",
    "internet_penet.info()"
   ]
  },
  {
   "cell_type": "code",
   "execution_count": 13,
   "metadata": {},
   "outputs": [
    {
     "name": "stdout",
     "output_type": "stream",
     "text": [
      "<class 'pandas.core.frame.DataFrame'>\n",
      "RangeIndex: 34 entries, 0 to 33\n",
      "Data columns (total 9 columns):\n",
      " #   Column        Non-Null Count  Dtype  \n",
      "---  ------        --------------  -----  \n",
      " 0   Año           34 non-null     int64  \n",
      " 1   Trimestre     34 non-null     int64  \n",
      " 2   ADSL          34 non-null     object \n",
      " 3   Cablemodem    34 non-null     object \n",
      " 4   Fibra óptica  34 non-null     object \n",
      " 5   Wireless      34 non-null     float64\n",
      " 6   Otros         34 non-null     float64\n",
      " 7   Total         34 non-null     object \n",
      " 8   Periodo       34 non-null     object \n",
      "dtypes: float64(2), int64(2), object(5)\n",
      "memory usage: 2.5+ KB\n"
     ]
    }
   ],
   "source": [
    "# Exploramos la infomación de nuestros datos \n",
    "internet_tec.info()"
   ]
  },
  {
   "cell_type": "code",
   "execution_count": 14,
   "metadata": {},
   "outputs": [
    {
     "name": "stdout",
     "output_type": "stream",
     "text": [
      "<class 'pandas.core.frame.DataFrame'>\n",
      "RangeIndex: 34 entries, 0 to 33\n",
      "Data columns (total 4 columns):\n",
      " #   Column                  Non-Null Count  Dtype \n",
      "---  ------                  --------------  ----- \n",
      " 0   Año                     34 non-null     int64 \n",
      " 1   Trimestre               34 non-null     int64 \n",
      " 2   Mbps (Media de bajada)  34 non-null     object\n",
      " 3   Trimestre.1             34 non-null     object\n",
      "dtypes: int64(2), object(2)\n",
      "memory usage: 1.2+ KB\n"
     ]
    }
   ],
   "source": [
    "# Exploramos la infomación de nuestros datos \n",
    "internet_vel.info()"
   ]
  },
  {
   "cell_type": "code",
   "execution_count": 15,
   "metadata": {},
   "outputs": [
    {
     "name": "stdout",
     "output_type": "stream",
     "text": [
      "<class 'pandas.core.frame.DataFrame'>\n",
      "RangeIndex: 34 entries, 0 to 33\n",
      "Data columns (total 12 columns):\n",
      " #   Column                   Non-Null Count  Dtype  \n",
      "---  ------                   --------------  -----  \n",
      " 0   Año                      34 non-null     int64  \n",
      " 1   Trimestre                34 non-null     int64  \n",
      " 2   Hasta 512 kbps           34 non-null     float64\n",
      " 3   Entre 512 Kbps y 1 Mbps  34 non-null     float64\n",
      " 4   Entre 1 Mbps y 6 Mbps    34 non-null     object \n",
      " 5   Entre 6 Mbps y 10 Mbps   34 non-null     object \n",
      " 6   Entre 10 Mbps y 20 Mbps  34 non-null     object \n",
      " 7   Entre 20 Mbps y 30 Mbps  34 non-null     object \n",
      " 8   Más de 30 Mbps           34 non-null     object \n",
      " 9   OTROS                    34 non-null     float64\n",
      " 10  Total                    34 non-null     object \n",
      " 11  Unnamed: 11              0 non-null      float64\n",
      "dtypes: float64(4), int64(2), object(6)\n",
      "memory usage: 3.3+ KB\n"
     ]
    }
   ],
   "source": [
    "# Exploramos la infomación de nuestros datos \n",
    "internet_acc_vel.info()"
   ]
  },
  {
   "attachments": {},
   "cell_type": "markdown",
   "metadata": {},
   "source": [
    "## Visualizamos los primero datos de la Tablas"
   ]
  },
  {
   "cell_type": "code",
   "execution_count": 20,
   "metadata": {},
   "outputs": [
    {
     "data": {
      "text/html": [
       "<div>\n",
       "<style scoped>\n",
       "    .dataframe tbody tr th:only-of-type {\n",
       "        vertical-align: middle;\n",
       "    }\n",
       "\n",
       "    .dataframe tbody tr th {\n",
       "        vertical-align: top;\n",
       "    }\n",
       "\n",
       "    .dataframe thead th {\n",
       "        text-align: right;\n",
       "    }\n",
       "</style>\n",
       "<table border=\"1\" class=\"dataframe\">\n",
       "  <thead>\n",
       "    <tr style=\"text-align: right;\">\n",
       "      <th></th>\n",
       "      <th>Año</th>\n",
       "      <th>Trimestre</th>\n",
       "      <th>Accesos por cada 100 hogares</th>\n",
       "      <th>Accesos por cada 100 hab</th>\n",
       "      <th>Periodo</th>\n",
       "    </tr>\n",
       "  </thead>\n",
       "  <tbody>\n",
       "    <tr>\n",
       "      <th>0</th>\n",
       "      <td>2022</td>\n",
       "      <td>2</td>\n",
       "      <td>75,97</td>\n",
       "      <td>23,72</td>\n",
       "      <td>Abr-Jun 2022</td>\n",
       "    </tr>\n",
       "    <tr>\n",
       "      <th>1</th>\n",
       "      <td>2022</td>\n",
       "      <td>1</td>\n",
       "      <td>73,88</td>\n",
       "      <td>23,05</td>\n",
       "      <td>Ene-Mar 2022</td>\n",
       "    </tr>\n",
       "    <tr>\n",
       "      <th>2</th>\n",
       "      <td>2021</td>\n",
       "      <td>4</td>\n",
       "      <td>73,18</td>\n",
       "      <td>22,81</td>\n",
       "      <td>Oct-Dic 2021</td>\n",
       "    </tr>\n",
       "    <tr>\n",
       "      <th>3</th>\n",
       "      <td>2021</td>\n",
       "      <td>3</td>\n",
       "      <td>70,58</td>\n",
       "      <td>21,98</td>\n",
       "      <td>Jul-Sept 2021</td>\n",
       "    </tr>\n",
       "    <tr>\n",
       "      <th>4</th>\n",
       "      <td>2021</td>\n",
       "      <td>2</td>\n",
       "      <td>69,24</td>\n",
       "      <td>21,55</td>\n",
       "      <td>Abr-Jun 2021</td>\n",
       "    </tr>\n",
       "  </tbody>\n",
       "</table>\n",
       "</div>"
      ],
      "text/plain": [
       "    Año  Trimestre Accesos por cada 100 hogares Accesos por cada 100 hab  \\\n",
       "0  2022          2                        75,97                    23,72   \n",
       "1  2022          1                        73,88                    23,05   \n",
       "2  2021          4                        73,18                    22,81   \n",
       "3  2021          3                        70,58                    21,98   \n",
       "4  2021          2                        69,24                    21,55   \n",
       "\n",
       "         Periodo  \n",
       "0   Abr-Jun 2022  \n",
       "1   Ene-Mar 2022  \n",
       "2   Oct-Dic 2021  \n",
       "3  Jul-Sept 2021  \n",
       "4   Abr-Jun 2021  "
      ]
     },
     "execution_count": 20,
     "metadata": {},
     "output_type": "execute_result"
    }
   ],
   "source": [
    "internet_penet.head()"
   ]
  },
  {
   "cell_type": "code",
   "execution_count": 19,
   "metadata": {},
   "outputs": [
    {
     "data": {
      "text/html": [
       "<div>\n",
       "<style scoped>\n",
       "    .dataframe tbody tr th:only-of-type {\n",
       "        vertical-align: middle;\n",
       "    }\n",
       "\n",
       "    .dataframe tbody tr th {\n",
       "        vertical-align: top;\n",
       "    }\n",
       "\n",
       "    .dataframe thead th {\n",
       "        text-align: right;\n",
       "    }\n",
       "</style>\n",
       "<table border=\"1\" class=\"dataframe\">\n",
       "  <thead>\n",
       "    <tr style=\"text-align: right;\">\n",
       "      <th></th>\n",
       "      <th>Año</th>\n",
       "      <th>Trimestre</th>\n",
       "      <th>ADSL</th>\n",
       "      <th>Cablemodem</th>\n",
       "      <th>Fibra óptica</th>\n",
       "      <th>Wireless</th>\n",
       "      <th>Otros</th>\n",
       "      <th>Total</th>\n",
       "      <th>Periodo</th>\n",
       "    </tr>\n",
       "  </thead>\n",
       "  <tbody>\n",
       "    <tr>\n",
       "      <th>0</th>\n",
       "      <td>2022</td>\n",
       "      <td>2</td>\n",
       "      <td>1.468.333</td>\n",
       "      <td>5.979.214</td>\n",
       "      <td>2.723.285</td>\n",
       "      <td>556.243</td>\n",
       "      <td>231.609</td>\n",
       "      <td>10.958.684</td>\n",
       "      <td>Abr-Jun 2022</td>\n",
       "    </tr>\n",
       "    <tr>\n",
       "      <th>1</th>\n",
       "      <td>2022</td>\n",
       "      <td>1</td>\n",
       "      <td>1.533.240</td>\n",
       "      <td>6.073.426</td>\n",
       "      <td>2.219.533</td>\n",
       "      <td>545.814</td>\n",
       "      <td>251.996</td>\n",
       "      <td>10.624.009</td>\n",
       "      <td>Ene-Mar 2022</td>\n",
       "    </tr>\n",
       "    <tr>\n",
       "      <th>2</th>\n",
       "      <td>2021</td>\n",
       "      <td>4</td>\n",
       "      <td>1.657.615</td>\n",
       "      <td>5.984.240</td>\n",
       "      <td>2.072.236</td>\n",
       "      <td>523.107</td>\n",
       "      <td>252.596</td>\n",
       "      <td>10.489.794</td>\n",
       "      <td>Oct-Dic 2021</td>\n",
       "    </tr>\n",
       "    <tr>\n",
       "      <th>3</th>\n",
       "      <td>2021</td>\n",
       "      <td>3</td>\n",
       "      <td>1.950.631</td>\n",
       "      <td>5.826.257</td>\n",
       "      <td>1.566.048</td>\n",
       "      <td>492.415</td>\n",
       "      <td>250.190</td>\n",
       "      <td>10.085.541</td>\n",
       "      <td>Jul-Sept 2021</td>\n",
       "    </tr>\n",
       "    <tr>\n",
       "      <th>4</th>\n",
       "      <td>2021</td>\n",
       "      <td>2</td>\n",
       "      <td>2.018.587</td>\n",
       "      <td>5.641.731</td>\n",
       "      <td>1.472.246</td>\n",
       "      <td>476.968</td>\n",
       "      <td>253.552</td>\n",
       "      <td>9.863.084</td>\n",
       "      <td>Abr-Jun 2021</td>\n",
       "    </tr>\n",
       "  </tbody>\n",
       "</table>\n",
       "</div>"
      ],
      "text/plain": [
       "    Año  Trimestre       ADSL Cablemodem Fibra óptica  Wireless    Otros  \\\n",
       "0  2022          2  1.468.333  5.979.214    2.723.285   556.243  231.609   \n",
       "1  2022          1  1.533.240  6.073.426    2.219.533   545.814  251.996   \n",
       "2  2021          4  1.657.615  5.984.240    2.072.236   523.107  252.596   \n",
       "3  2021          3  1.950.631  5.826.257    1.566.048   492.415  250.190   \n",
       "4  2021          2  2.018.587  5.641.731    1.472.246   476.968  253.552   \n",
       "\n",
       "        Total        Periodo  \n",
       "0  10.958.684   Abr-Jun 2022  \n",
       "1  10.624.009   Ene-Mar 2022  \n",
       "2  10.489.794   Oct-Dic 2021  \n",
       "3  10.085.541  Jul-Sept 2021  \n",
       "4   9.863.084   Abr-Jun 2021  "
      ]
     },
     "execution_count": 19,
     "metadata": {},
     "output_type": "execute_result"
    }
   ],
   "source": [
    "internet_tec.head()"
   ]
  },
  {
   "cell_type": "code",
   "execution_count": 21,
   "metadata": {},
   "outputs": [
    {
     "data": {
      "text/html": [
       "<div>\n",
       "<style scoped>\n",
       "    .dataframe tbody tr th:only-of-type {\n",
       "        vertical-align: middle;\n",
       "    }\n",
       "\n",
       "    .dataframe tbody tr th {\n",
       "        vertical-align: top;\n",
       "    }\n",
       "\n",
       "    .dataframe thead th {\n",
       "        text-align: right;\n",
       "    }\n",
       "</style>\n",
       "<table border=\"1\" class=\"dataframe\">\n",
       "  <thead>\n",
       "    <tr style=\"text-align: right;\">\n",
       "      <th></th>\n",
       "      <th>Año</th>\n",
       "      <th>Trimestre</th>\n",
       "      <th>Mbps (Media de bajada)</th>\n",
       "      <th>Trimestre.1</th>\n",
       "    </tr>\n",
       "  </thead>\n",
       "  <tbody>\n",
       "    <tr>\n",
       "      <th>0</th>\n",
       "      <td>2022</td>\n",
       "      <td>2</td>\n",
       "      <td>58,44</td>\n",
       "      <td>Abr-Jun 2022</td>\n",
       "    </tr>\n",
       "    <tr>\n",
       "      <th>1</th>\n",
       "      <td>2022</td>\n",
       "      <td>1</td>\n",
       "      <td>55,11</td>\n",
       "      <td>Ene-Mar 2022</td>\n",
       "    </tr>\n",
       "    <tr>\n",
       "      <th>2</th>\n",
       "      <td>2021</td>\n",
       "      <td>4</td>\n",
       "      <td>52,34</td>\n",
       "      <td>Oct-Dic 2021</td>\n",
       "    </tr>\n",
       "    <tr>\n",
       "      <th>3</th>\n",
       "      <td>2021</td>\n",
       "      <td>3</td>\n",
       "      <td>48,46</td>\n",
       "      <td>Jul-Sept 2021</td>\n",
       "    </tr>\n",
       "    <tr>\n",
       "      <th>4</th>\n",
       "      <td>2021</td>\n",
       "      <td>2</td>\n",
       "      <td>45,63</td>\n",
       "      <td>Abr-Jun 2021</td>\n",
       "    </tr>\n",
       "  </tbody>\n",
       "</table>\n",
       "</div>"
      ],
      "text/plain": [
       "    Año  Trimestre Mbps (Media de bajada)    Trimestre.1\n",
       "0  2022          2                  58,44   Abr-Jun 2022\n",
       "1  2022          1                  55,11   Ene-Mar 2022\n",
       "2  2021          4                  52,34   Oct-Dic 2021\n",
       "3  2021          3                  48,46  Jul-Sept 2021\n",
       "4  2021          2                  45,63   Abr-Jun 2021"
      ]
     },
     "execution_count": 21,
     "metadata": {},
     "output_type": "execute_result"
    }
   ],
   "source": [
    "internet_vel.head()"
   ]
  },
  {
   "cell_type": "code",
   "execution_count": 22,
   "metadata": {},
   "outputs": [
    {
     "data": {
      "text/html": [
       "<div>\n",
       "<style scoped>\n",
       "    .dataframe tbody tr th:only-of-type {\n",
       "        vertical-align: middle;\n",
       "    }\n",
       "\n",
       "    .dataframe tbody tr th {\n",
       "        vertical-align: top;\n",
       "    }\n",
       "\n",
       "    .dataframe thead th {\n",
       "        text-align: right;\n",
       "    }\n",
       "</style>\n",
       "<table border=\"1\" class=\"dataframe\">\n",
       "  <thead>\n",
       "    <tr style=\"text-align: right;\">\n",
       "      <th></th>\n",
       "      <th>Año</th>\n",
       "      <th>Trimestre</th>\n",
       "      <th>Hasta 512 kbps</th>\n",
       "      <th>Entre 512 Kbps y 1 Mbps</th>\n",
       "      <th>Entre 1 Mbps y 6 Mbps</th>\n",
       "      <th>Entre 6 Mbps y 10 Mbps</th>\n",
       "      <th>Entre 10 Mbps y 20 Mbps</th>\n",
       "      <th>Entre 20 Mbps y 30 Mbps</th>\n",
       "      <th>Más de 30 Mbps</th>\n",
       "      <th>OTROS</th>\n",
       "      <th>Total</th>\n",
       "      <th>Unnamed: 11</th>\n",
       "    </tr>\n",
       "  </thead>\n",
       "  <tbody>\n",
       "    <tr>\n",
       "      <th>0</th>\n",
       "      <td>2022</td>\n",
       "      <td>2</td>\n",
       "      <td>33.667</td>\n",
       "      <td>99.498</td>\n",
       "      <td>1.193.090</td>\n",
       "      <td>1.197.030</td>\n",
       "      <td>856.562</td>\n",
       "      <td>485.321</td>\n",
       "      <td>6.741.922</td>\n",
       "      <td>351.594</td>\n",
       "      <td>10.958.684</td>\n",
       "      <td>NaN</td>\n",
       "    </tr>\n",
       "    <tr>\n",
       "      <th>1</th>\n",
       "      <td>2022</td>\n",
       "      <td>1</td>\n",
       "      <td>34.890</td>\n",
       "      <td>104.840</td>\n",
       "      <td>1.263.273</td>\n",
       "      <td>1.209.148</td>\n",
       "      <td>967.508</td>\n",
       "      <td>509.830</td>\n",
       "      <td>6.336.187</td>\n",
       "      <td>198.333</td>\n",
       "      <td>10.624.009</td>\n",
       "      <td>NaN</td>\n",
       "    </tr>\n",
       "    <tr>\n",
       "      <th>2</th>\n",
       "      <td>2021</td>\n",
       "      <td>4</td>\n",
       "      <td>41.262</td>\n",
       "      <td>28.521</td>\n",
       "      <td>1.413.208</td>\n",
       "      <td>1.245.333</td>\n",
       "      <td>976.539</td>\n",
       "      <td>558.358</td>\n",
       "      <td>6.032.322</td>\n",
       "      <td>194.251</td>\n",
       "      <td>10.489.794</td>\n",
       "      <td>NaN</td>\n",
       "    </tr>\n",
       "    <tr>\n",
       "      <th>3</th>\n",
       "      <td>2021</td>\n",
       "      <td>3</td>\n",
       "      <td>40.174</td>\n",
       "      <td>41.437</td>\n",
       "      <td>2.550.229</td>\n",
       "      <td>1.095.772</td>\n",
       "      <td>710.122</td>\n",
       "      <td>536.364</td>\n",
       "      <td>4.948.174</td>\n",
       "      <td>163.269</td>\n",
       "      <td>10.085.541</td>\n",
       "      <td>NaN</td>\n",
       "    </tr>\n",
       "    <tr>\n",
       "      <th>4</th>\n",
       "      <td>2021</td>\n",
       "      <td>2</td>\n",
       "      <td>40.172</td>\n",
       "      <td>42.024</td>\n",
       "      <td>2.531.271</td>\n",
       "      <td>1.080.279</td>\n",
       "      <td>693.277</td>\n",
       "      <td>647.401</td>\n",
       "      <td>4.661.291</td>\n",
       "      <td>167.369</td>\n",
       "      <td>9.863.084</td>\n",
       "      <td>NaN</td>\n",
       "    </tr>\n",
       "  </tbody>\n",
       "</table>\n",
       "</div>"
      ],
      "text/plain": [
       "    Año  Trimestre  Hasta 512 kbps  Entre 512 Kbps y 1 Mbps  \\\n",
       "0  2022          2          33.667                   99.498   \n",
       "1  2022          1          34.890                  104.840   \n",
       "2  2021          4          41.262                   28.521   \n",
       "3  2021          3          40.174                   41.437   \n",
       "4  2021          2          40.172                   42.024   \n",
       "\n",
       "  Entre 1 Mbps y 6 Mbps Entre 6 Mbps y 10 Mbps Entre 10 Mbps y 20 Mbps  \\\n",
       "0             1.193.090              1.197.030                 856.562   \n",
       "1             1.263.273              1.209.148                 967.508   \n",
       "2             1.413.208              1.245.333                 976.539   \n",
       "3             2.550.229              1.095.772                 710.122   \n",
       "4             2.531.271              1.080.279                 693.277   \n",
       "\n",
       "  Entre 20 Mbps y 30 Mbps Más de 30 Mbps    OTROS       Total  Unnamed: 11  \n",
       "0                 485.321      6.741.922  351.594  10.958.684          NaN  \n",
       "1                 509.830      6.336.187  198.333  10.624.009          NaN  \n",
       "2                 558.358      6.032.322  194.251  10.489.794          NaN  \n",
       "3                 536.364      4.948.174  163.269  10.085.541          NaN  \n",
       "4                 647.401      4.661.291  167.369   9.863.084          NaN  "
      ]
     },
     "execution_count": 22,
     "metadata": {},
     "output_type": "execute_result"
    }
   ],
   "source": [
    "internet_acc_vel.head()"
   ]
  },
  {
   "cell_type": "code",
   "execution_count": 31,
   "metadata": {},
   "outputs": [
    {
     "data": {
      "text/html": [
       "<div>\n",
       "<style scoped>\n",
       "    .dataframe tbody tr th:only-of-type {\n",
       "        vertical-align: middle;\n",
       "    }\n",
       "\n",
       "    .dataframe tbody tr th {\n",
       "        vertical-align: top;\n",
       "    }\n",
       "\n",
       "    .dataframe thead th {\n",
       "        text-align: right;\n",
       "    }\n",
       "</style>\n",
       "<table border=\"1\" class=\"dataframe\">\n",
       "  <thead>\n",
       "    <tr style=\"text-align: right;\">\n",
       "      <th></th>\n",
       "      <th>Año</th>\n",
       "      <th>Trimestre</th>\n",
       "      <th>Hasta 512 kbps</th>\n",
       "      <th>Entre 512 Kbps y 1 Mbps</th>\n",
       "      <th>Entre 1 Mbps y 6 Mbps</th>\n",
       "      <th>Entre 6 Mbps y 10 Mbps</th>\n",
       "      <th>Entre 10 Mbps y 20 Mbps</th>\n",
       "      <th>Entre 20 Mbps y 30 Mbps</th>\n",
       "      <th>Más de 30 Mbps</th>\n",
       "      <th>OTROS</th>\n",
       "      <th>Total</th>\n",
       "    </tr>\n",
       "  </thead>\n",
       "  <tbody>\n",
       "    <tr>\n",
       "      <th>0</th>\n",
       "      <td>2022</td>\n",
       "      <td>2</td>\n",
       "      <td>33.667</td>\n",
       "      <td>99.498</td>\n",
       "      <td>1.193.090</td>\n",
       "      <td>1.197.030</td>\n",
       "      <td>856.562</td>\n",
       "      <td>485.321</td>\n",
       "      <td>6.741.922</td>\n",
       "      <td>351.594</td>\n",
       "      <td>10.958.684</td>\n",
       "    </tr>\n",
       "    <tr>\n",
       "      <th>1</th>\n",
       "      <td>2022</td>\n",
       "      <td>1</td>\n",
       "      <td>34.890</td>\n",
       "      <td>104.840</td>\n",
       "      <td>1.263.273</td>\n",
       "      <td>1.209.148</td>\n",
       "      <td>967.508</td>\n",
       "      <td>509.830</td>\n",
       "      <td>6.336.187</td>\n",
       "      <td>198.333</td>\n",
       "      <td>10.624.009</td>\n",
       "    </tr>\n",
       "    <tr>\n",
       "      <th>2</th>\n",
       "      <td>2021</td>\n",
       "      <td>4</td>\n",
       "      <td>41.262</td>\n",
       "      <td>28.521</td>\n",
       "      <td>1.413.208</td>\n",
       "      <td>1.245.333</td>\n",
       "      <td>976.539</td>\n",
       "      <td>558.358</td>\n",
       "      <td>6.032.322</td>\n",
       "      <td>194.251</td>\n",
       "      <td>10.489.794</td>\n",
       "    </tr>\n",
       "    <tr>\n",
       "      <th>3</th>\n",
       "      <td>2021</td>\n",
       "      <td>3</td>\n",
       "      <td>40.174</td>\n",
       "      <td>41.437</td>\n",
       "      <td>2.550.229</td>\n",
       "      <td>1.095.772</td>\n",
       "      <td>710.122</td>\n",
       "      <td>536.364</td>\n",
       "      <td>4.948.174</td>\n",
       "      <td>163.269</td>\n",
       "      <td>10.085.541</td>\n",
       "    </tr>\n",
       "    <tr>\n",
       "      <th>4</th>\n",
       "      <td>2021</td>\n",
       "      <td>2</td>\n",
       "      <td>40.172</td>\n",
       "      <td>42.024</td>\n",
       "      <td>2.531.271</td>\n",
       "      <td>1.080.279</td>\n",
       "      <td>693.277</td>\n",
       "      <td>647.401</td>\n",
       "      <td>4.661.291</td>\n",
       "      <td>167.369</td>\n",
       "      <td>9.863.084</td>\n",
       "    </tr>\n",
       "    <tr>\n",
       "      <th>5</th>\n",
       "      <td>2021</td>\n",
       "      <td>1</td>\n",
       "      <td>39.487</td>\n",
       "      <td>41.674</td>\n",
       "      <td>2.593.477</td>\n",
       "      <td>1.072.722</td>\n",
       "      <td>737.930</td>\n",
       "      <td>595.920</td>\n",
       "      <td>4.379.965</td>\n",
       "      <td>186.797</td>\n",
       "      <td>9.647.972</td>\n",
       "    </tr>\n",
       "    <tr>\n",
       "      <th>6</th>\n",
       "      <td>2020</td>\n",
       "      <td>4</td>\n",
       "      <td>39.510</td>\n",
       "      <td>42.185</td>\n",
       "      <td>2.622.638</td>\n",
       "      <td>1.073.875</td>\n",
       "      <td>786.595</td>\n",
       "      <td>582.420</td>\n",
       "      <td>4.239.237</td>\n",
       "      <td>185.102</td>\n",
       "      <td>9.571.562</td>\n",
       "    </tr>\n",
       "    <tr>\n",
       "      <th>7</th>\n",
       "      <td>2020</td>\n",
       "      <td>3</td>\n",
       "      <td>41.038</td>\n",
       "      <td>44.005</td>\n",
       "      <td>2.637.984</td>\n",
       "      <td>1.040.017</td>\n",
       "      <td>799.350</td>\n",
       "      <td>538.567</td>\n",
       "      <td>4.053.461</td>\n",
       "      <td>201.777</td>\n",
       "      <td>9.356.199</td>\n",
       "    </tr>\n",
       "    <tr>\n",
       "      <th>8</th>\n",
       "      <td>2020</td>\n",
       "      <td>2</td>\n",
       "      <td>41.038</td>\n",
       "      <td>48.690</td>\n",
       "      <td>2.651.502</td>\n",
       "      <td>1.053.107</td>\n",
       "      <td>807.775</td>\n",
       "      <td>523.437</td>\n",
       "      <td>3.711.499</td>\n",
       "      <td>194.008</td>\n",
       "      <td>9.031.056</td>\n",
       "    </tr>\n",
       "    <tr>\n",
       "      <th>9</th>\n",
       "      <td>2020</td>\n",
       "      <td>1</td>\n",
       "      <td>42.550</td>\n",
       "      <td>56.170</td>\n",
       "      <td>2.649.819</td>\n",
       "      <td>1.022.014</td>\n",
       "      <td>814.470</td>\n",
       "      <td>532.309</td>\n",
       "      <td>3.500.882</td>\n",
       "      <td>194.212</td>\n",
       "      <td>8.812.426</td>\n",
       "    </tr>\n",
       "    <tr>\n",
       "      <th>10</th>\n",
       "      <td>2019</td>\n",
       "      <td>4</td>\n",
       "      <td>38.272</td>\n",
       "      <td>28.980</td>\n",
       "      <td>2.792.307</td>\n",
       "      <td>1.046.128</td>\n",
       "      <td>851.619</td>\n",
       "      <td>1.004.083</td>\n",
       "      <td>2.830.746</td>\n",
       "      <td>201.046</td>\n",
       "      <td>8.793.181</td>\n",
       "    </tr>\n",
       "    <tr>\n",
       "      <th>11</th>\n",
       "      <td>2019</td>\n",
       "      <td>3</td>\n",
       "      <td>241.713</td>\n",
       "      <td>80.599</td>\n",
       "      <td>3.309.137</td>\n",
       "      <td>1.026.859</td>\n",
       "      <td>806.466</td>\n",
       "      <td>1.141.545</td>\n",
       "      <td>2.314.898</td>\n",
       "      <td>243.467</td>\n",
       "      <td>9.164.684</td>\n",
       "    </tr>\n",
       "    <tr>\n",
       "      <th>12</th>\n",
       "      <td>2019</td>\n",
       "      <td>2</td>\n",
       "      <td>202.790</td>\n",
       "      <td>95.980</td>\n",
       "      <td>3.444.458</td>\n",
       "      <td>871.142</td>\n",
       "      <td>1.169.632</td>\n",
       "      <td>1.250.366</td>\n",
       "      <td>1.677.830</td>\n",
       "      <td>247.983</td>\n",
       "      <td>8.960.181</td>\n",
       "    </tr>\n",
       "    <tr>\n",
       "      <th>13</th>\n",
       "      <td>2019</td>\n",
       "      <td>1</td>\n",
       "      <td>166.573</td>\n",
       "      <td>195.706</td>\n",
       "      <td>3.428.759</td>\n",
       "      <td>882.836</td>\n",
       "      <td>1.464.748</td>\n",
       "      <td>1.244.215</td>\n",
       "      <td>1.138.728</td>\n",
       "      <td>126.570</td>\n",
       "      <td>8.648.135</td>\n",
       "    </tr>\n",
       "    <tr>\n",
       "      <th>14</th>\n",
       "      <td>2018</td>\n",
       "      <td>4</td>\n",
       "      <td>138.740</td>\n",
       "      <td>201.196</td>\n",
       "      <td>3.337.982</td>\n",
       "      <td>882.388</td>\n",
       "      <td>1.472.634</td>\n",
       "      <td>1.688.748</td>\n",
       "      <td>599.579</td>\n",
       "      <td>152.388</td>\n",
       "      <td>8.473.655</td>\n",
       "    </tr>\n",
       "    <tr>\n",
       "      <th>15</th>\n",
       "      <td>2018</td>\n",
       "      <td>3</td>\n",
       "      <td>5.675</td>\n",
       "      <td>220.589</td>\n",
       "      <td>3.401.277</td>\n",
       "      <td>859.413</td>\n",
       "      <td>1.607.137</td>\n",
       "      <td>1.571.692</td>\n",
       "      <td>524.777</td>\n",
       "      <td>156.475</td>\n",
       "      <td>8.347.035</td>\n",
       "    </tr>\n",
       "    <tr>\n",
       "      <th>16</th>\n",
       "      <td>2018</td>\n",
       "      <td>2</td>\n",
       "      <td>5.972</td>\n",
       "      <td>219.467</td>\n",
       "      <td>3.316.868</td>\n",
       "      <td>979.416</td>\n",
       "      <td>1.905.839</td>\n",
       "      <td>1.000.036</td>\n",
       "      <td>444.391</td>\n",
       "      <td>238.455</td>\n",
       "      <td>8.110.444</td>\n",
       "    </tr>\n",
       "    <tr>\n",
       "      <th>17</th>\n",
       "      <td>2018</td>\n",
       "      <td>1</td>\n",
       "      <td>7.309</td>\n",
       "      <td>215.406</td>\n",
       "      <td>3.272.724</td>\n",
       "      <td>976.956</td>\n",
       "      <td>2.068.087</td>\n",
       "      <td>862.010</td>\n",
       "      <td>397.977</td>\n",
       "      <td>236.584</td>\n",
       "      <td>8.037.053</td>\n",
       "    </tr>\n",
       "    <tr>\n",
       "      <th>18</th>\n",
       "      <td>2017</td>\n",
       "      <td>4</td>\n",
       "      <td>15.041</td>\n",
       "      <td>221.474</td>\n",
       "      <td>3.773.159</td>\n",
       "      <td>1.005.545</td>\n",
       "      <td>1.730.353</td>\n",
       "      <td>631.946</td>\n",
       "      <td>337.559</td>\n",
       "      <td>155.145</td>\n",
       "      <td>7.870.222</td>\n",
       "    </tr>\n",
       "    <tr>\n",
       "      <th>19</th>\n",
       "      <td>2017</td>\n",
       "      <td>3</td>\n",
       "      <td>19.022</td>\n",
       "      <td>217.997</td>\n",
       "      <td>4.062.226</td>\n",
       "      <td>1.062.810</td>\n",
       "      <td>1.592.304</td>\n",
       "      <td>353.480</td>\n",
       "      <td>245.790</td>\n",
       "      <td>0.000</td>\n",
       "      <td>7.553.629</td>\n",
       "    </tr>\n",
       "    <tr>\n",
       "      <th>20</th>\n",
       "      <td>2017</td>\n",
       "      <td>2</td>\n",
       "      <td>22.366</td>\n",
       "      <td>222.766</td>\n",
       "      <td>4.416.065</td>\n",
       "      <td>990.281</td>\n",
       "      <td>1.342.000</td>\n",
       "      <td>231.604</td>\n",
       "      <td>98.635</td>\n",
       "      <td>0.000</td>\n",
       "      <td>7.323.717</td>\n",
       "    </tr>\n",
       "    <tr>\n",
       "      <th>21</th>\n",
       "      <td>2017</td>\n",
       "      <td>1</td>\n",
       "      <td>20.653</td>\n",
       "      <td>230.159</td>\n",
       "      <td>4.584.534</td>\n",
       "      <td>975.027</td>\n",
       "      <td>1.129.987</td>\n",
       "      <td>210.668</td>\n",
       "      <td>47.990</td>\n",
       "      <td>0.000</td>\n",
       "      <td>7.199.018</td>\n",
       "    </tr>\n",
       "    <tr>\n",
       "      <th>22</th>\n",
       "      <td>2016</td>\n",
       "      <td>4</td>\n",
       "      <td>20.724</td>\n",
       "      <td>233.398</td>\n",
       "      <td>4.673.339</td>\n",
       "      <td>971.094</td>\n",
       "      <td>1.038.029</td>\n",
       "      <td>169.522</td>\n",
       "      <td>38.590</td>\n",
       "      <td>0.000</td>\n",
       "      <td>7.144.696</td>\n",
       "    </tr>\n",
       "    <tr>\n",
       "      <th>23</th>\n",
       "      <td>2016</td>\n",
       "      <td>3</td>\n",
       "      <td>20.104</td>\n",
       "      <td>294.413</td>\n",
       "      <td>4.816.081</td>\n",
       "      <td>936.533</td>\n",
       "      <td>919.208</td>\n",
       "      <td>124.564</td>\n",
       "      <td>31.022</td>\n",
       "      <td>0.000</td>\n",
       "      <td>7.141.925</td>\n",
       "    </tr>\n",
       "    <tr>\n",
       "      <th>24</th>\n",
       "      <td>2016</td>\n",
       "      <td>2</td>\n",
       "      <td>44.008</td>\n",
       "      <td>384.221</td>\n",
       "      <td>5.058.481</td>\n",
       "      <td>796.998</td>\n",
       "      <td>785.759</td>\n",
       "      <td>73.977</td>\n",
       "      <td>29.020</td>\n",
       "      <td>0.000</td>\n",
       "      <td>7.172.464</td>\n",
       "    </tr>\n",
       "    <tr>\n",
       "      <th>25</th>\n",
       "      <td>2016</td>\n",
       "      <td>1</td>\n",
       "      <td>30.428</td>\n",
       "      <td>404.810</td>\n",
       "      <td>4.944.358</td>\n",
       "      <td>762.999</td>\n",
       "      <td>641.646</td>\n",
       "      <td>27.664</td>\n",
       "      <td>23.380</td>\n",
       "      <td>0.000</td>\n",
       "      <td>6.835.285</td>\n",
       "    </tr>\n",
       "    <tr>\n",
       "      <th>26</th>\n",
       "      <td>2015</td>\n",
       "      <td>4</td>\n",
       "      <td>34.243</td>\n",
       "      <td>427.394</td>\n",
       "      <td>5.049.640</td>\n",
       "      <td>726.740</td>\n",
       "      <td>639.011</td>\n",
       "      <td>17.568</td>\n",
       "      <td>22.170</td>\n",
       "      <td>0.000</td>\n",
       "      <td>6.916.766</td>\n",
       "    </tr>\n",
       "    <tr>\n",
       "      <th>27</th>\n",
       "      <td>2015</td>\n",
       "      <td>3</td>\n",
       "      <td>35.030</td>\n",
       "      <td>455.777</td>\n",
       "      <td>5.087.802</td>\n",
       "      <td>701.187</td>\n",
       "      <td>539.414</td>\n",
       "      <td>13.101</td>\n",
       "      <td>20.677</td>\n",
       "      <td>0.000</td>\n",
       "      <td>6.852.988</td>\n",
       "    </tr>\n",
       "    <tr>\n",
       "      <th>28</th>\n",
       "      <td>2015</td>\n",
       "      <td>2</td>\n",
       "      <td>40.723</td>\n",
       "      <td>500.175</td>\n",
       "      <td>5.138.431</td>\n",
       "      <td>645.440</td>\n",
       "      <td>432.762</td>\n",
       "      <td>10.045</td>\n",
       "      <td>18.529</td>\n",
       "      <td>0.000</td>\n",
       "      <td>6.786.105</td>\n",
       "    </tr>\n",
       "    <tr>\n",
       "      <th>29</th>\n",
       "      <td>2015</td>\n",
       "      <td>1</td>\n",
       "      <td>41.158</td>\n",
       "      <td>516.919</td>\n",
       "      <td>5.121.423</td>\n",
       "      <td>571.620</td>\n",
       "      <td>348.102</td>\n",
       "      <td>7.643</td>\n",
       "      <td>16.347</td>\n",
       "      <td>0.000</td>\n",
       "      <td>6.623.212</td>\n",
       "    </tr>\n",
       "    <tr>\n",
       "      <th>30</th>\n",
       "      <td>2014</td>\n",
       "      <td>4</td>\n",
       "      <td>44.075</td>\n",
       "      <td>554.749</td>\n",
       "      <td>5.084.556</td>\n",
       "      <td>496.251</td>\n",
       "      <td>276.254</td>\n",
       "      <td>4.371</td>\n",
       "      <td>15.229</td>\n",
       "      <td>0.000</td>\n",
       "      <td>6.475.485</td>\n",
       "    </tr>\n",
       "    <tr>\n",
       "      <th>31</th>\n",
       "      <td>2014</td>\n",
       "      <td>3</td>\n",
       "      <td>37.430</td>\n",
       "      <td>608.018</td>\n",
       "      <td>5.153.437</td>\n",
       "      <td>373.372</td>\n",
       "      <td>182.483</td>\n",
       "      <td>507</td>\n",
       "      <td>12.424</td>\n",
       "      <td>0.000</td>\n",
       "      <td>6.367.671</td>\n",
       "    </tr>\n",
       "    <tr>\n",
       "      <th>32</th>\n",
       "      <td>2014</td>\n",
       "      <td>2</td>\n",
       "      <td>41.064</td>\n",
       "      <td>656.408</td>\n",
       "      <td>5.149.574</td>\n",
       "      <td>341.689</td>\n",
       "      <td>147.273</td>\n",
       "      <td>478</td>\n",
       "      <td>12.259</td>\n",
       "      <td>0.000</td>\n",
       "      <td>6.348.745</td>\n",
       "    </tr>\n",
       "    <tr>\n",
       "      <th>33</th>\n",
       "      <td>2014</td>\n",
       "      <td>1</td>\n",
       "      <td>52.684</td>\n",
       "      <td>687.619</td>\n",
       "      <td>5.130.294</td>\n",
       "      <td>289.182</td>\n",
       "      <td>101.127</td>\n",
       "      <td>345</td>\n",
       "      <td>11.595</td>\n",
       "      <td>0.000</td>\n",
       "      <td>6.272.846</td>\n",
       "    </tr>\n",
       "  </tbody>\n",
       "</table>\n",
       "</div>"
      ],
      "text/plain": [
       "     Año  Trimestre  Hasta 512 kbps  Entre 512 Kbps y 1 Mbps  \\\n",
       "0   2022          2          33.667                   99.498   \n",
       "1   2022          1          34.890                  104.840   \n",
       "2   2021          4          41.262                   28.521   \n",
       "3   2021          3          40.174                   41.437   \n",
       "4   2021          2          40.172                   42.024   \n",
       "5   2021          1          39.487                   41.674   \n",
       "6   2020          4          39.510                   42.185   \n",
       "7   2020          3          41.038                   44.005   \n",
       "8   2020          2          41.038                   48.690   \n",
       "9   2020          1          42.550                   56.170   \n",
       "10  2019          4          38.272                   28.980   \n",
       "11  2019          3         241.713                   80.599   \n",
       "12  2019          2         202.790                   95.980   \n",
       "13  2019          1         166.573                  195.706   \n",
       "14  2018          4         138.740                  201.196   \n",
       "15  2018          3           5.675                  220.589   \n",
       "16  2018          2           5.972                  219.467   \n",
       "17  2018          1           7.309                  215.406   \n",
       "18  2017          4          15.041                  221.474   \n",
       "19  2017          3          19.022                  217.997   \n",
       "20  2017          2          22.366                  222.766   \n",
       "21  2017          1          20.653                  230.159   \n",
       "22  2016          4          20.724                  233.398   \n",
       "23  2016          3          20.104                  294.413   \n",
       "24  2016          2          44.008                  384.221   \n",
       "25  2016          1          30.428                  404.810   \n",
       "26  2015          4          34.243                  427.394   \n",
       "27  2015          3          35.030                  455.777   \n",
       "28  2015          2          40.723                  500.175   \n",
       "29  2015          1          41.158                  516.919   \n",
       "30  2014          4          44.075                  554.749   \n",
       "31  2014          3          37.430                  608.018   \n",
       "32  2014          2          41.064                  656.408   \n",
       "33  2014          1          52.684                  687.619   \n",
       "\n",
       "   Entre 1 Mbps y 6 Mbps Entre 6 Mbps y 10 Mbps Entre 10 Mbps y 20 Mbps  \\\n",
       "0              1.193.090              1.197.030                 856.562   \n",
       "1              1.263.273              1.209.148                 967.508   \n",
       "2              1.413.208              1.245.333                 976.539   \n",
       "3              2.550.229              1.095.772                 710.122   \n",
       "4              2.531.271              1.080.279                 693.277   \n",
       "5              2.593.477              1.072.722                 737.930   \n",
       "6              2.622.638              1.073.875                 786.595   \n",
       "7              2.637.984              1.040.017                 799.350   \n",
       "8              2.651.502              1.053.107                 807.775   \n",
       "9              2.649.819              1.022.014                 814.470   \n",
       "10             2.792.307              1.046.128                 851.619   \n",
       "11             3.309.137              1.026.859                 806.466   \n",
       "12             3.444.458                871.142               1.169.632   \n",
       "13             3.428.759                882.836               1.464.748   \n",
       "14             3.337.982                882.388               1.472.634   \n",
       "15             3.401.277                859.413               1.607.137   \n",
       "16             3.316.868                979.416               1.905.839   \n",
       "17             3.272.724                976.956               2.068.087   \n",
       "18             3.773.159              1.005.545               1.730.353   \n",
       "19             4.062.226              1.062.810               1.592.304   \n",
       "20             4.416.065                990.281               1.342.000   \n",
       "21             4.584.534                975.027               1.129.987   \n",
       "22             4.673.339                971.094               1.038.029   \n",
       "23             4.816.081                936.533                 919.208   \n",
       "24             5.058.481                796.998                 785.759   \n",
       "25             4.944.358                762.999                 641.646   \n",
       "26             5.049.640                726.740                 639.011   \n",
       "27             5.087.802                701.187                 539.414   \n",
       "28             5.138.431                645.440                 432.762   \n",
       "29             5.121.423                571.620                 348.102   \n",
       "30             5.084.556                496.251                 276.254   \n",
       "31             5.153.437                373.372                 182.483   \n",
       "32             5.149.574                341.689                 147.273   \n",
       "33             5.130.294                289.182                 101.127   \n",
       "\n",
       "   Entre 20 Mbps y 30 Mbps Más de 30 Mbps    OTROS       Total  \n",
       "0                  485.321      6.741.922  351.594  10.958.684  \n",
       "1                  509.830      6.336.187  198.333  10.624.009  \n",
       "2                  558.358      6.032.322  194.251  10.489.794  \n",
       "3                  536.364      4.948.174  163.269  10.085.541  \n",
       "4                  647.401      4.661.291  167.369   9.863.084  \n",
       "5                  595.920      4.379.965  186.797   9.647.972  \n",
       "6                  582.420      4.239.237  185.102   9.571.562  \n",
       "7                  538.567      4.053.461  201.777   9.356.199  \n",
       "8                  523.437      3.711.499  194.008   9.031.056  \n",
       "9                  532.309      3.500.882  194.212   8.812.426  \n",
       "10               1.004.083      2.830.746  201.046   8.793.181  \n",
       "11               1.141.545      2.314.898  243.467   9.164.684  \n",
       "12               1.250.366      1.677.830  247.983   8.960.181  \n",
       "13               1.244.215      1.138.728  126.570   8.648.135  \n",
       "14               1.688.748        599.579  152.388   8.473.655  \n",
       "15               1.571.692        524.777  156.475   8.347.035  \n",
       "16               1.000.036        444.391  238.455   8.110.444  \n",
       "17                 862.010        397.977  236.584   8.037.053  \n",
       "18                 631.946        337.559  155.145   7.870.222  \n",
       "19                 353.480        245.790    0.000   7.553.629  \n",
       "20                 231.604         98.635    0.000   7.323.717  \n",
       "21                 210.668         47.990    0.000   7.199.018  \n",
       "22                 169.522         38.590    0.000   7.144.696  \n",
       "23                 124.564         31.022    0.000   7.141.925  \n",
       "24                  73.977         29.020    0.000   7.172.464  \n",
       "25                  27.664         23.380    0.000   6.835.285  \n",
       "26                  17.568         22.170    0.000   6.916.766  \n",
       "27                  13.101         20.677    0.000   6.852.988  \n",
       "28                  10.045         18.529    0.000   6.786.105  \n",
       "29                   7.643         16.347    0.000   6.623.212  \n",
       "30                   4.371         15.229    0.000   6.475.485  \n",
       "31                     507         12.424    0.000   6.367.671  \n",
       "32                     478         12.259    0.000   6.348.745  \n",
       "33                     345         11.595    0.000   6.272.846  "
      ]
     },
     "execution_count": 31,
     "metadata": {},
     "output_type": "execute_result"
    }
   ],
   "source": [
    "# Elimino la ultima columna de la tabla que tiene datos NAN\n",
    "internet_acc_vel = internet_acc_vel.drop(internet_acc_vel.columns[11], axis='columns')\n",
    "internet_acc_vel"
   ]
  },
  {
   "attachments": {},
   "cell_type": "markdown",
   "metadata": {},
   "source": [
    "###  Gráficos de barras me sriven para tener una idea de cómo se distribuye una variable categórica/cualitativa en el conjunto de datos y asi hacer una comparación de medidas de diferentes grupos de forma visual. "
   ]
  },
  {
   "cell_type": "code",
   "execution_count": 41,
   "metadata": {},
   "outputs": [
    {
     "data": {
      "text/plain": [
       "<AxesSubplot: ylabel='count'>"
      ]
     },
     "execution_count": 41,
     "metadata": {},
     "output_type": "execute_result"
    },
    {
     "data": {
      "image/png": "[encoded data removed]",
      "text/plain": [
       "<Figure size 432x288 with 1 Axes>"
      ]
     },
     "metadata": {
      "needs_background": "light"
     },
     "output_type": "display_data"
    }
   ],
   "source": [
    "sns.countplot(internet_penet)"
   ]
  },
  {
   "cell_type": "code",
   "execution_count": 34,
   "metadata": {},
   "outputs": [
    {
     "data": {
      "text/plain": [
       "<AxesSubplot: ylabel='count'>"
      ]
     },
     "execution_count": 34,
     "metadata": {},
     "output_type": "execute_result"
    },
    {
     "data": {
      "image/png": "[encoded data removed]",
      "text/plain": [
       "<Figure size 432x288 with 1 Axes>"
      ]
     },
     "metadata": {
      "needs_background": "light"
     },
     "output_type": "display_data"
    }
   ],
   "source": [
    "sns.countplot(internet_tec)"
   ]
  },
  {
   "cell_type": "code",
   "execution_count": 35,
   "metadata": {},
   "outputs": [
    {
     "data": {
      "text/plain": [
       "<AxesSubplot: ylabel='count'>"
      ]
     },
     "execution_count": 35,
     "metadata": {},
     "output_type": "execute_result"
    },
    {
     "data": {
      "image/png": "[encoded data removed]",
      "text/plain": [
       "<Figure size 432x288 with 1 Axes>"
      ]
     },
     "metadata": {
      "needs_background": "light"
     },
     "output_type": "display_data"
    }
   ],
   "source": [
    "sns.countplot(internet_vel)"
   ]
  },
  {
   "cell_type": "code",
   "execution_count": 36,
   "metadata": {},
   "outputs": [
    {
     "data": {
      "text/plain": [
       "<AxesSubplot: ylabel='count'>"
      ]
     },
     "execution_count": 36,
     "metadata": {},
     "output_type": "execute_result"
    },
    {
     "data": {
      "image/png": "[encoded data removed]",
      "text/plain": [
       "<Figure size 432x288 with 1 Axes>"
      ]
     },
     "metadata": {
      "needs_background": "light"
     },
     "output_type": "display_data"
    }
   ],
   "source": [
    "sns.countplot(internet_acc_vel)"
   ]
  },
  {
   "attachments": {},
   "cell_type": "markdown",
   "metadata": {},
   "source": [
    "### Obtener más información estadística de los datos que tenemos."
   ]
  },
  {
   "cell_type": "code",
   "execution_count": 42,
   "metadata": {},
   "outputs": [
    {
     "data": {
      "text/html": [
       "<div>\n",
       "<style scoped>\n",
       "    .dataframe tbody tr th:only-of-type {\n",
       "        vertical-align: middle;\n",
       "    }\n",
       "\n",
       "    .dataframe tbody tr th {\n",
       "        vertical-align: top;\n",
       "    }\n",
       "\n",
       "    .dataframe thead th {\n",
       "        text-align: right;\n",
       "    }\n",
       "</style>\n",
       "<table border=\"1\" class=\"dataframe\">\n",
       "  <thead>\n",
       "    <tr style=\"text-align: right;\">\n",
       "      <th></th>\n",
       "      <th>Año</th>\n",
       "      <th>Trimestre</th>\n",
       "    </tr>\n",
       "  </thead>\n",
       "  <tbody>\n",
       "    <tr>\n",
       "      <th>count</th>\n",
       "      <td>34.000000</td>\n",
       "      <td>34.000000</td>\n",
       "    </tr>\n",
       "    <tr>\n",
       "      <th>mean</th>\n",
       "      <td>2017.764706</td>\n",
       "      <td>2.441176</td>\n",
       "    </tr>\n",
       "    <tr>\n",
       "      <th>std</th>\n",
       "      <td>2.499198</td>\n",
       "      <td>1.133276</td>\n",
       "    </tr>\n",
       "    <tr>\n",
       "      <th>min</th>\n",
       "      <td>2014.000000</td>\n",
       "      <td>1.000000</td>\n",
       "    </tr>\n",
       "    <tr>\n",
       "      <th>25%</th>\n",
       "      <td>2016.000000</td>\n",
       "      <td>1.250000</td>\n",
       "    </tr>\n",
       "    <tr>\n",
       "      <th>50%</th>\n",
       "      <td>2018.000000</td>\n",
       "      <td>2.000000</td>\n",
       "    </tr>\n",
       "    <tr>\n",
       "      <th>75%</th>\n",
       "      <td>2020.000000</td>\n",
       "      <td>3.000000</td>\n",
       "    </tr>\n",
       "    <tr>\n",
       "      <th>max</th>\n",
       "      <td>2022.000000</td>\n",
       "      <td>4.000000</td>\n",
       "    </tr>\n",
       "  </tbody>\n",
       "</table>\n",
       "</div>"
      ],
      "text/plain": [
       "               Año  Trimestre\n",
       "count    34.000000  34.000000\n",
       "mean   2017.764706   2.441176\n",
       "std       2.499198   1.133276\n",
       "min    2014.000000   1.000000\n",
       "25%    2016.000000   1.250000\n",
       "50%    2018.000000   2.000000\n",
       "75%    2020.000000   3.000000\n",
       "max    2022.000000   4.000000"
      ]
     },
     "execution_count": 42,
     "metadata": {},
     "output_type": "execute_result"
    }
   ],
   "source": [
    "# Resumen de atributos numéricos para variables continuas\n",
    "internet_penet.describe()"
   ]
  },
  {
   "cell_type": "code",
   "execution_count": 43,
   "metadata": {},
   "outputs": [
    {
     "data": {
      "text/html": [
       "<div>\n",
       "<style scoped>\n",
       "    .dataframe tbody tr th:only-of-type {\n",
       "        vertical-align: middle;\n",
       "    }\n",
       "\n",
       "    .dataframe tbody tr th {\n",
       "        vertical-align: top;\n",
       "    }\n",
       "\n",
       "    .dataframe thead th {\n",
       "        text-align: right;\n",
       "    }\n",
       "</style>\n",
       "<table border=\"1\" class=\"dataframe\">\n",
       "  <thead>\n",
       "    <tr style=\"text-align: right;\">\n",
       "      <th></th>\n",
       "      <th>Año</th>\n",
       "      <th>Trimestre</th>\n",
       "      <th>Wireless</th>\n",
       "      <th>Otros</th>\n",
       "    </tr>\n",
       "  </thead>\n",
       "  <tbody>\n",
       "    <tr>\n",
       "      <th>count</th>\n",
       "      <td>34.000000</td>\n",
       "      <td>34.000000</td>\n",
       "      <td>34.000000</td>\n",
       "      <td>34.000000</td>\n",
       "    </tr>\n",
       "    <tr>\n",
       "      <th>mean</th>\n",
       "      <td>2017.764706</td>\n",
       "      <td>2.441176</td>\n",
       "      <td>239.196794</td>\n",
       "      <td>144.848765</td>\n",
       "    </tr>\n",
       "    <tr>\n",
       "      <th>std</th>\n",
       "      <td>2.499198</td>\n",
       "      <td>1.133276</td>\n",
       "      <td>168.361006</td>\n",
       "      <td>85.769506</td>\n",
       "    </tr>\n",
       "    <tr>\n",
       "      <th>min</th>\n",
       "      <td>2014.000000</td>\n",
       "      <td>1.000000</td>\n",
       "      <td>70.749000</td>\n",
       "      <td>54.300000</td>\n",
       "    </tr>\n",
       "    <tr>\n",
       "      <th>25%</th>\n",
       "      <td>2016.000000</td>\n",
       "      <td>1.250000</td>\n",
       "      <td>85.101750</td>\n",
       "      <td>61.122750</td>\n",
       "    </tr>\n",
       "    <tr>\n",
       "      <th>50%</th>\n",
       "      <td>2018.000000</td>\n",
       "      <td>2.000000</td>\n",
       "      <td>179.783500</td>\n",
       "      <td>99.712000</td>\n",
       "    </tr>\n",
       "    <tr>\n",
       "      <th>75%</th>\n",
       "      <td>2020.000000</td>\n",
       "      <td>3.000000</td>\n",
       "      <td>370.583500</td>\n",
       "      <td>248.369750</td>\n",
       "    </tr>\n",
       "    <tr>\n",
       "      <th>max</th>\n",
       "      <td>2022.000000</td>\n",
       "      <td>4.000000</td>\n",
       "      <td>556.243000</td>\n",
       "      <td>265.328000</td>\n",
       "    </tr>\n",
       "  </tbody>\n",
       "</table>\n",
       "</div>"
      ],
      "text/plain": [
       "               Año  Trimestre    Wireless       Otros\n",
       "count    34.000000  34.000000   34.000000   34.000000\n",
       "mean   2017.764706   2.441176  239.196794  144.848765\n",
       "std       2.499198   1.133276  168.361006   85.769506\n",
       "min    2014.000000   1.000000   70.749000   54.300000\n",
       "25%    2016.000000   1.250000   85.101750   61.122750\n",
       "50%    2018.000000   2.000000  179.783500   99.712000\n",
       "75%    2020.000000   3.000000  370.583500  248.369750\n",
       "max    2022.000000   4.000000  556.243000  265.328000"
      ]
     },
     "execution_count": 43,
     "metadata": {},
     "output_type": "execute_result"
    }
   ],
   "source": [
    "# Resumen de atributos numéricos para variables continuas\n",
    "internet_tec.describe()"
   ]
  },
  {
   "cell_type": "code",
   "execution_count": 44,
   "metadata": {},
   "outputs": [
    {
     "data": {
      "text/html": [
       "<div>\n",
       "<style scoped>\n",
       "    .dataframe tbody tr th:only-of-type {\n",
       "        vertical-align: middle;\n",
       "    }\n",
       "\n",
       "    .dataframe tbody tr th {\n",
       "        vertical-align: top;\n",
       "    }\n",
       "\n",
       "    .dataframe thead th {\n",
       "        text-align: right;\n",
       "    }\n",
       "</style>\n",
       "<table border=\"1\" class=\"dataframe\">\n",
       "  <thead>\n",
       "    <tr style=\"text-align: right;\">\n",
       "      <th></th>\n",
       "      <th>Año</th>\n",
       "      <th>Trimestre</th>\n",
       "    </tr>\n",
       "  </thead>\n",
       "  <tbody>\n",
       "    <tr>\n",
       "      <th>count</th>\n",
       "      <td>34.000000</td>\n",
       "      <td>34.000000</td>\n",
       "    </tr>\n",
       "    <tr>\n",
       "      <th>mean</th>\n",
       "      <td>2017.764706</td>\n",
       "      <td>2.441176</td>\n",
       "    </tr>\n",
       "    <tr>\n",
       "      <th>std</th>\n",
       "      <td>2.499198</td>\n",
       "      <td>1.133276</td>\n",
       "    </tr>\n",
       "    <tr>\n",
       "      <th>min</th>\n",
       "      <td>2014.000000</td>\n",
       "      <td>1.000000</td>\n",
       "    </tr>\n",
       "    <tr>\n",
       "      <th>25%</th>\n",
       "      <td>2016.000000</td>\n",
       "      <td>1.250000</td>\n",
       "    </tr>\n",
       "    <tr>\n",
       "      <th>50%</th>\n",
       "      <td>2018.000000</td>\n",
       "      <td>2.000000</td>\n",
       "    </tr>\n",
       "    <tr>\n",
       "      <th>75%</th>\n",
       "      <td>2020.000000</td>\n",
       "      <td>3.000000</td>\n",
       "    </tr>\n",
       "    <tr>\n",
       "      <th>max</th>\n",
       "      <td>2022.000000</td>\n",
       "      <td>4.000000</td>\n",
       "    </tr>\n",
       "  </tbody>\n",
       "</table>\n",
       "</div>"
      ],
      "text/plain": [
       "               Año  Trimestre\n",
       "count    34.000000  34.000000\n",
       "mean   2017.764706   2.441176\n",
       "std       2.499198   1.133276\n",
       "min    2014.000000   1.000000\n",
       "25%    2016.000000   1.250000\n",
       "50%    2018.000000   2.000000\n",
       "75%    2020.000000   3.000000\n",
       "max    2022.000000   4.000000"
      ]
     },
     "execution_count": 44,
     "metadata": {},
     "output_type": "execute_result"
    }
   ],
   "source": [
    "# Resumen de atributos numéricos para variables continuas\n",
    "internet_vel.describe()"
   ]
  },
  {
   "cell_type": "code",
   "execution_count": 45,
   "metadata": {},
   "outputs": [
    {
     "data": {
      "text/html": [
       "<div>\n",
       "<style scoped>\n",
       "    .dataframe tbody tr th:only-of-type {\n",
       "        vertical-align: middle;\n",
       "    }\n",
       "\n",
       "    .dataframe tbody tr th {\n",
       "        vertical-align: top;\n",
       "    }\n",
       "\n",
       "    .dataframe thead th {\n",
       "        text-align: right;\n",
       "    }\n",
       "</style>\n",
       "<table border=\"1\" class=\"dataframe\">\n",
       "  <thead>\n",
       "    <tr style=\"text-align: right;\">\n",
       "      <th></th>\n",
       "      <th>Año</th>\n",
       "      <th>Trimestre</th>\n",
       "      <th>Hasta 512 kbps</th>\n",
       "      <th>Entre 512 Kbps y 1 Mbps</th>\n",
       "      <th>OTROS</th>\n",
       "    </tr>\n",
       "  </thead>\n",
       "  <tbody>\n",
       "    <tr>\n",
       "      <th>count</th>\n",
       "      <td>34.000000</td>\n",
       "      <td>34.000000</td>\n",
       "      <td>34.000000</td>\n",
       "      <td>34.000000</td>\n",
       "      <td>34.000000</td>\n",
       "    </tr>\n",
       "    <tr>\n",
       "      <th>mean</th>\n",
       "      <td>2017.764706</td>\n",
       "      <td>2.441176</td>\n",
       "      <td>50.576029</td>\n",
       "      <td>247.743059</td>\n",
       "      <td>111.612500</td>\n",
       "    </tr>\n",
       "    <tr>\n",
       "      <th>std</th>\n",
       "      <td>2.499198</td>\n",
       "      <td>1.133276</td>\n",
       "      <td>53.797941</td>\n",
       "      <td>200.653410</td>\n",
       "      <td>107.146845</td>\n",
       "    </tr>\n",
       "    <tr>\n",
       "      <th>min</th>\n",
       "      <td>2014.000000</td>\n",
       "      <td>1.000000</td>\n",
       "      <td>5.675000</td>\n",
       "      <td>28.521000</td>\n",
       "      <td>0.000000</td>\n",
       "    </tr>\n",
       "    <tr>\n",
       "      <th>25%</th>\n",
       "      <td>2016.000000</td>\n",
       "      <td>1.250000</td>\n",
       "      <td>24.381500</td>\n",
       "      <td>62.277250</td>\n",
       "      <td>0.000000</td>\n",
       "    </tr>\n",
       "    <tr>\n",
       "      <th>50%</th>\n",
       "      <td>2018.000000</td>\n",
       "      <td>2.000000</td>\n",
       "      <td>39.498500</td>\n",
       "      <td>218.732000</td>\n",
       "      <td>153.766500</td>\n",
       "    </tr>\n",
       "    <tr>\n",
       "      <th>75%</th>\n",
       "      <td>2020.000000</td>\n",
       "      <td>3.000000</td>\n",
       "      <td>41.236000</td>\n",
       "      <td>399.662750</td>\n",
       "      <td>194.241250</td>\n",
       "    </tr>\n",
       "    <tr>\n",
       "      <th>max</th>\n",
       "      <td>2022.000000</td>\n",
       "      <td>4.000000</td>\n",
       "      <td>241.713000</td>\n",
       "      <td>687.619000</td>\n",
       "      <td>351.594000</td>\n",
       "    </tr>\n",
       "  </tbody>\n",
       "</table>\n",
       "</div>"
      ],
      "text/plain": [
       "               Año  Trimestre  Hasta 512 kbps  Entre 512 Kbps y 1 Mbps  \\\n",
       "count    34.000000  34.000000       34.000000                34.000000   \n",
       "mean   2017.764706   2.441176       50.576029               247.743059   \n",
       "std       2.499198   1.133276       53.797941               200.653410   \n",
       "min    2014.000000   1.000000        5.675000                28.521000   \n",
       "25%    2016.000000   1.250000       24.381500                62.277250   \n",
       "50%    2018.000000   2.000000       39.498500               218.732000   \n",
       "75%    2020.000000   3.000000       41.236000               399.662750   \n",
       "max    2022.000000   4.000000      241.713000               687.619000   \n",
       "\n",
       "            OTROS  \n",
       "count   34.000000  \n",
       "mean   111.612500  \n",
       "std    107.146845  \n",
       "min      0.000000  \n",
       "25%      0.000000  \n",
       "50%    153.766500  \n",
       "75%    194.241250  \n",
       "max    351.594000  "
      ]
     },
     "execution_count": 45,
     "metadata": {},
     "output_type": "execute_result"
    }
   ],
   "source": [
    "# Resumen de atributos numéricos para variables continuas\n",
    "internet_acc_vel.describe()"
   ]
  },
  {
   "attachments": {},
   "cell_type": "markdown",
   "metadata": {},
   "source": [
    "Histogramas: estos nos van a permitir ver los datos de naturaleza cuantitativa. El objetivo es saber cómo se distribuyen las entradas, si están centradas o sesgadas, los rangos de los datos, la distribución es unimodal o multimodal, etc. Con esto voy  apoder saber si necesito realizar alguna transformación a una variable determinada."
   ]
  },
  {
   "cell_type": "code",
   "execution_count": 51,
   "metadata": {},
   "outputs": [
    {
     "data": {
      "text/plain": [
       "<function matplotlib.pyplot.show(close=None, block=None)>"
      ]
     },
     "execution_count": 51,
     "metadata": {},
     "output_type": "execute_result"
    },
    {
     "data": {
      "image/png": "[encoded data removed]",
      "text/plain": [
       "<Figure size 720x360 with 2 Axes>"
      ]
     },
     "metadata": {
      "needs_background": "light"
     },
     "output_type": "display_data"
    }
   ],
   "source": [
    "import matplotlib.pyplot as plt\n",
    "internet_penet.hist(bins = 50, figsize = (10,5))\n",
    "plt.show"
   ]
  },
  {
   "cell_type": "code",
   "execution_count": 52,
   "metadata": {},
   "outputs": [
    {
     "data": {
      "text/plain": [
       "<function matplotlib.pyplot.show(close=None, block=None)>"
      ]
     },
     "execution_count": 52,
     "metadata": {},
     "output_type": "execute_result"
    },
    {
     "data": {
      "image/png": "[encoded data removed]",
      "text/plain": [
       "<Figure size 720x360 with 4 Axes>"
      ]
     },
     "metadata": {
      "needs_background": "light"
     },
     "output_type": "display_data"
    }
   ],
   "source": [
    "import matplotlib.pyplot as plt\n",
    "internet_tec.hist(bins = 50, figsize = (10,5))\n",
    "plt.show"
   ]
  },
  {
   "cell_type": "code",
   "execution_count": 53,
   "metadata": {},
   "outputs": [
    {
     "data": {
      "text/plain": [
       "<function matplotlib.pyplot.show(close=None, block=None)>"
      ]
     },
     "execution_count": 53,
     "metadata": {},
     "output_type": "execute_result"
    },
    {
     "data": {
      "image/png": "[encoded data removed]",
      "text/plain": [
       "<Figure size 720x360 with 2 Axes>"
      ]
     },
     "metadata": {
      "needs_background": "light"
     },
     "output_type": "display_data"
    }
   ],
   "source": [
    "import matplotlib.pyplot as plt\n",
    "internet_vel.hist(bins = 50, figsize = (10,5))\n",
    "plt.show"
   ]
  },
  {
   "cell_type": "code",
   "execution_count": 54,
   "metadata": {},
   "outputs": [
    {
     "data": {
      "text/plain": [
       "<function matplotlib.pyplot.show(close=None, block=None)>"
      ]
     },
     "execution_count": 54,
     "metadata": {},
     "output_type": "execute_result"
    },
    {
     "data": {
      "image/png": "[encoded data removed]",
      "text/plain": [
       "<Figure size 720x360 with 6 Axes>"
      ]
     },
     "metadata": {
      "needs_background": "light"
     },
     "output_type": "display_data"
    }
   ],
   "source": [
    "internet_acc_vel.hist(bins = 50, figsize = (10,5))\n",
    "plt.show"
   ]
  },
  {
   "attachments": {},
   "cell_type": "markdown",
   "metadata": {},
   "source": [
    "Correlacion Heat-Maps:\n",
    "\n",
    "Con el mapa de calor voy a poder ver si existe una correlación entre cualquier par de variables.La correlacion va a ser positiva cuando mas se acerca al 1."
   ]
  },
  {
   "cell_type": "code",
   "execution_count": 57,
   "metadata": {},
   "outputs": [
    {
     "data": {
      "image/png": "[encoded data removed]",
      "text/plain": [
       "<Figure size 432x288 with 2 Axes>"
      ]
     },
     "metadata": {
      "needs_background": "light"
     },
     "output_type": "display_data"
    }
   ],
   "source": [
    "corr_matrix = internet_penet.corr()\n",
    "ax = sns.heatmap(\n",
    "    corr_matrix, \n",
    "    vmin=-1, vmax=1, center=0,\n",
    "    cmap=sns.diverging_palette(20, 220, n=200),\n",
    "    square=True\n",
    ")"
   ]
  },
  {
   "cell_type": "code",
   "execution_count": 58,
   "metadata": {},
   "outputs": [
    {
     "data": {
      "image/png": "[encoded data removed]",
      "text/plain": [
       "<Figure size 432x288 with 2 Axes>"
      ]
     },
     "metadata": {
      "needs_background": "light"
     },
     "output_type": "display_data"
    }
   ],
   "source": [
    "corr_matrix = internet_tec.corr()\n",
    "ax = sns.heatmap(\n",
    "    corr_matrix, \n",
    "    vmin=-1, vmax=1, center=0,\n",
    "    cmap=sns.diverging_palette(20, 220, n=200),\n",
    "    square=True\n",
    ")"
   ]
  },
  {
   "cell_type": "code",
   "execution_count": 59,
   "metadata": {},
   "outputs": [
    {
     "data": {
      "image/png": "[encoded data removed]",
      "text/plain": [
       "<Figure size 432x288 with 2 Axes>"
      ]
     },
     "metadata": {
      "needs_background": "light"
     },
     "output_type": "display_data"
    }
   ],
   "source": [
    "corr_matrix = internet_vel.corr()\n",
    "ax = sns.heatmap(\n",
    "    corr_matrix, \n",
    "    vmin=-1, vmax=1, center=0,\n",
    "    cmap=sns.diverging_palette(20, 220, n=200),\n",
    "    square=True\n",
    ")"
   ]
  },
  {
   "cell_type": "code",
   "execution_count": 60,
   "metadata": {},
   "outputs": [
    {
     "data": {
      "image/png": "[encoded data removed]",
      "text/plain": [
       "<Figure size 432x288 with 2 Axes>"
      ]
     },
     "metadata": {
      "needs_background": "light"
     },
     "output_type": "display_data"
    }
   ],
   "source": [
    "corr_matrix = internet_acc_vel.corr()\n",
    "ax = sns.heatmap(\n",
    "    corr_matrix, \n",
    "    vmin=-1, vmax=1, center=0,\n",
    "    cmap=sns.diverging_palette(20, 220, n=200),\n",
    "    square=True\n",
    ")"
   ]
  },
  {
   "attachments": {},
   "cell_type": "markdown",
   "metadata": {},
   "source": [
    "Conclusion: \n",
    "\n",
    "Con estas visualizaciones básicas que se realizamos con los datos nos sirvieron para descubrir patrones y anomalías (valores atípicos, nulls, valores faltantes, tipo de valores que tenemos y cuales debemos cambiar) y asi poder formular nuestras hipótesis basadas en nuestra comprensión del conjunto de datos. La visualizacion es normal sin sesgos.\n",
    "La limpieza continua en Power Query."
   ]
  },
  {
   "attachments": {},
   "cell_type": "markdown",
   "metadata": {},
   "source": [
    "### "
   ]
  }
 ],
 "metadata": {
  "kernelspec": {
   "display_name": "Python 3",
   "language": "python",
   "name": "python3"
  },
  "language_info": {
   "codemirror_mode": {
    "name": "ipython",
    "version": 3
   },
   "file_extension": ".py",
   "mimetype": "text/x-python",
   "name": "python",
   "nbconvert_exporter": "python",
   "pygments_lexer": "ipython3",
   "version": "3.10.9"
  },
  "orig_nbformat": 4,
  "vscode": {
   "interpreter": {
    "hash": "8f4caa2d30935580112e2bb4a142833b5126ed53259677c686b938aed5f7c1ea"
   }
  }
 },
 "nbformat": 4,
 "nbformat_minor": 2
}
